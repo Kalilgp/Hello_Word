{
 "cells": [
  {
   "cell_type": "code",
   "execution_count": 2,
   "metadata": {},
   "outputs": [
    {
     "name": "stdout",
     "output_type": "stream",
     "text": [
      "Núemro 2 é par\n"
     ]
    }
   ],
   "source": [
    "num = int(input(\"Digite um número: \"))\n",
    "if num % 2 == 0:\n",
    "    print('Núemro {} é par'.format(num))\n",
    "else:\n",
    "    print('Núemro {} é impar'.format(num))\n"
   ]
  },
  {
   "cell_type": "code",
   "execution_count": 20,
   "metadata": {},
   "outputs": [
    {
     "name": "stdout",
     "output_type": "stream",
     "text": [
      "A palavra kalil tem 5 caracteres.\n",
      "A palavra pereira tem 7 caracteres.\n"
     ]
    }
   ],
   "source": [
    "frase = input('Digite uma frase: ')\n",
    "fr_quebrada = frase.split()\n",
    "for i in fr_quebrada:\n",
    "    fr_qta = len(i)\n",
    "    print('A palavra {} tem {} caracteres.'.format(i,fr_qta))\n"
   ]
  },
  {
   "cell_type": "code",
   "execution_count": 22,
   "metadata": {},
   "outputs": [
    {
     "name": "stdout",
     "output_type": "stream",
     "text": [
      "Senha correta: 1234\n"
     ]
    }
   ],
   "source": [
    "senha = int(input('Digite sua senha: '))\n",
    "while senha != 1234:\n",
    "    senha = int(input('Senha incorreta! Digite sua senha: '))\n",
    "print('Senha correta: {}'.format(senha))\n"
   ]
  },
  {
   "cell_type": "code",
   "execution_count": 27,
   "metadata": {},
   "outputs": [
    {
     "name": "stdout",
     "output_type": "stream",
     "text": [
      "Mês: janeiro - Quantidade: 232\n",
      "Mês: Fevereiro - Quantidade: 321\n",
      "Mês: junho - Quantidade: 589\n",
      "Mês: julho - Quantidade: 547\n"
     ]
    }
   ],
   "source": [
    "mes = {\"janeiro\": 232,\"Fevereiro\": 321,\"junho\": 589, \"julho\": 547}\n",
    "for c in mes:\n",
    "    print(\"Mês: {} - Quantidade: {}\".format(c,mes[c]))"
   ]
  }
 ],
 "metadata": {
  "kernelspec": {
   "display_name": "Python 3",
   "language": "python",
   "name": "python3"
  },
  "language_info": {
   "codemirror_mode": {
    "name": "ipython",
    "version": 3
   },
   "file_extension": ".py",
   "mimetype": "text/x-python",
   "name": "python",
   "nbconvert_exporter": "python",
   "pygments_lexer": "ipython3",
   "version": "3.10.0"
  },
  "orig_nbformat": 4
 },
 "nbformat": 4,
 "nbformat_minor": 2
}
