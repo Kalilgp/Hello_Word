{
 "cells": [
  {
   "cell_type": "code",
   "execution_count": 8,
   "metadata": {},
   "outputs": [
    {
     "name": "stdout",
     "output_type": "stream",
     "text": [
      "Olá!!!\n"
     ]
    }
   ],
   "source": [
    "#Funções: Blocos de código que realizam uma tarefa especifica e podem ser chamada\n",
    "def mul(a,b): #Declara as variaveis (argumentos) dentro da função\n",
    "    x = a*b #Operação\n",
    "    return x #Retorno da função\n",
    "mul(4,5) #Declara os valores atribuidos as variaveis\n",
    "\n",
    "#Funções podem ou não receber parametros de entrada\n",
    "def diga_ola(): #Sem paramentro ou variavel\n",
    "    print(\"Olá!!!\") #Apenas imprime uma mensagem, sem operação.\n",
    "diga_ola()\n",
    "\n",
    "#Não necessariamente função tem saída (valores), pode ser usada como uma parte do código.\n"
   ]
  },
  {
   "cell_type": "code",
   "execution_count": 10,
   "metadata": {},
   "outputs": [
    {
     "name": "stdout",
     "output_type": "stream",
     "text": [
      "print A 200\n",
      "print B: 200\n",
      "print C: 10\n",
      "print D:  3\n",
      "print E: 200\n"
     ]
    }
   ],
   "source": [
    "x = 200\n",
    "print(\"print A\",x) #1 200\n",
    "\n",
    "def mostraX(x):\n",
    "    print(\"print C:\",x) #3 10\n",
    "    x = 3\n",
    "    print(\"print D: \", x) #4 3\n",
    "print(\"print B:\",x) #2 200\n",
    "mostraX(10)\n",
    "\n",
    "print(\"print E:\",x) #5 200 Pega o valor atribuido a variavel declarado fora da função que está encapsulado\n"
   ]
  },
  {
   "cell_type": "code",
   "execution_count": 11,
   "metadata": {},
   "outputs": [
    {
     "name": "stdout",
     "output_type": "stream",
     "text": [
      "Imposto de: 750.0\n",
      "Imposto de: 500.0\n",
      "Imposto de: 500.0\n"
     ]
    }
   ],
   "source": [
    "#Funções: Definir valores padrões (default), se um aargumento não for fornecido quando a função for chamada, ele usara o valor padrão definido em vez disso\n",
    "def calcular_imposto(salario, taxa=0.1): #Definindo o valor padrão em taxa\n",
    "    imposto = salario  * taxa\n",
    "    print(\"Imposto de:\", imposto)\n",
    "calcular_imposto(5000,0.15)\n",
    "calcular_imposto(5000,0.1)\n",
    "calcular_imposto(5000)"
   ]
  },
  {
   "cell_type": "code",
   "execution_count": 12,
   "metadata": {},
   "outputs": [
    {
     "data": {
      "text/plain": [
       "16"
      ]
     },
     "execution_count": 12,
     "metadata": {},
     "output_type": "execute_result"
    }
   ],
   "source": [
    "#Função Lambda: Função anonima que pode ser usada para criar funções simples (lambda x: expressão) x é argumento\n",
    "quadrado = lambda x: x**2\n",
    "quadrado(4)"
   ]
  },
  {
   "cell_type": "code",
   "execution_count": 13,
   "metadata": {},
   "outputs": [
    {
     "data": {
      "text/plain": [
       "True"
      ]
     },
     "execution_count": 13,
     "metadata": {},
     "output_type": "execute_result"
    }
   ],
   "source": [
    "eh_par = lambda x: (x % 2) == 0\n",
    "eh_par(4)"
   ]
  },
  {
   "cell_type": "code",
   "execution_count": 19,
   "metadata": {},
   "outputs": [
    {
     "name": "stdout",
     "output_type": "stream",
     "text": [
      "[6, 4, 6]\n"
     ]
    }
   ],
   "source": [
    "#Função Map: Função integrada que recebe uma função e um ou mais iteraveis como argumentos, e aplica a função a cada elemento.\n",
    "# map(função, iteravel,iteravel)\n",
    "frutas = [\"banana\",\"pera\",\"tomate\"]\n",
    "tamanhos = map(len,frutas)\n",
    "print(list(tamanhos)) #imprimir em forma de lista"
   ]
  },
  {
   "cell_type": "code",
   "execution_count": 20,
   "metadata": {},
   "outputs": [
    {
     "name": "stdout",
     "output_type": "stream",
     "text": [
      "[9, 16, 25]\n"
     ]
    }
   ],
   "source": [
    "lista_quadrados = list(map(quadrado,[3,4,5])) #permite a operação de uma função  com as variaveis dentro de uma outra função (map)\n",
    "print(lista_quadrados)"
   ]
  },
  {
   "cell_type": "code",
   "execution_count": 27,
   "metadata": {},
   "outputs": [
    {
     "name": "stdout",
     "output_type": "stream",
     "text": [
      "2023-01-25\n",
      "2023-08-26\n"
     ]
    },
    {
     "data": {
      "text/plain": [
       "'2023-08-26 22:26:58.325485'"
      ]
     },
     "execution_count": 27,
     "metadata": {},
     "output_type": "execute_result"
    }
   ],
   "source": [
    "#Date/Time (modulo date time): Trabalhar com datas, horários e deltas é feito por meio do modulo time\n",
    "#from datetime import date\n",
    "#date(ano,mes,dia) | today() data atual | now() data e hora atual\n",
    "from datetime import date\n",
    "aniversario = date(2023, 1, 25)\n",
    "print(aniversario)\n",
    "print(date.today())\n",
    "\n",
    "from datetime import datetime\n",
    "\n",
    "str(datetime.now())"
   ]
  },
  {
   "cell_type": "code",
   "execution_count": 29,
   "metadata": {},
   "outputs": [
    {
     "name": "stdout",
     "output_type": "stream",
     "text": [
      "25/01/2023\n"
     ]
    }
   ],
   "source": [
    "#Date/Time: Transformar string em formato de data. strtime() aceita string como argumento\n",
    "aniversario = date(2023, 1, 25)\n",
    "formatado = aniversario.strftime(\"%d/%m/%Y\")\n",
    "print(formatado)"
   ]
  },
  {
   "cell_type": "code",
   "execution_count": 36,
   "metadata": {},
   "outputs": [],
   "source": [
    "#Calculos com datas usando timedelta()\n",
    "from datetime import timedelta\n",
    "\n"
   ]
  },
  {
   "cell_type": "code",
   "execution_count": 39,
   "metadata": {},
   "outputs": [
    {
     "name": "stdout",
     "output_type": "stream",
     "text": [
      "2023-01-25\n",
      "2024-01-25\n"
     ]
    }
   ],
   "source": [
    "aniversario = date(2023, 1, 25)\n",
    "proximo_aniversario = aniversario.replace(year=aniversario.year +1) #Substituir ano do aniversario mais 1\n",
    "print(aniversario)\n",
    "print(proximo_aniversario)"
   ]
  },
  {
   "cell_type": "code",
   "execution_count": 43,
   "metadata": {},
   "outputs": [
    {
     "data": {
      "text/plain": [
       "False"
      ]
     },
     "execution_count": 43,
     "metadata": {},
     "output_type": "execute_result"
    }
   ],
   "source": [
    "eh_multipl_dez = lambda x:(x % 10) == 0\n",
    "eh_multipl_dez(1)"
   ]
  }
 ],
 "metadata": {
  "kernelspec": {
   "display_name": "Python 3",
   "language": "python",
   "name": "python3"
  },
  "language_info": {
   "codemirror_mode": {
    "name": "ipython",
    "version": 3
   },
   "file_extension": ".py",
   "mimetype": "text/x-python",
   "name": "python",
   "nbconvert_exporter": "python",
   "pygments_lexer": "ipython3",
   "version": "3.10.0"
  },
  "orig_nbformat": 4
 },
 "nbformat": 4,
 "nbformat_minor": 2
}
