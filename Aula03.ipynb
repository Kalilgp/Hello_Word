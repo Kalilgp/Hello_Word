{
 "cells": [
  {
   "cell_type": "code",
   "execution_count": 2,
   "metadata": {},
   "outputs": [
    {
     "name": "stdout",
     "output_type": "stream",
     "text": [
      "x é 5\n"
     ]
    }
   ],
   "source": [
    "#Condicionais: Estrutura de decisão (Estrutura de controle de fluxo)\n",
    "x = 5\n",
    "if x == 5:\n",
    "    print(\"x é 5\")\n"
   ]
  },
  {
   "cell_type": "code",
   "execution_count": null,
   "metadata": {},
   "outputs": [],
   "source": [
    "#Operadores de comparação\n",
    "'''\n",
    "igual (==)\n",
    "diferente (!=)\n",
    "maior que (>)\n",
    "menor que (<)\n",
    "maior ou igual (>=)\n",
    "meenor ou igual (<=)\n",
    "'''\n",
    "#Operadores lógicos\n",
    "E (and)\n",
    "OU (or)\n",
    "Nenhum (not)"
   ]
  },
  {
   "cell_type": "code",
   "execution_count": 3,
   "metadata": {},
   "outputs": [
    {
     "name": "stdout",
     "output_type": "stream",
     "text": [
      "Montanha russa liberada\n"
     ]
    }
   ],
   "source": [
    "idade = 15\n",
    "altura = 1.6\n",
    "dia = \"sabado\"\n",
    "\n",
    "if (idade > 12) and (altura >= 1.5) and (dia == \"sabado\" or dia == \"domingo\"):\n",
    "    print(\"Montanha russa liberada\")"
   ]
  },
  {
   "cell_type": "code",
   "execution_count": 4,
   "metadata": {},
   "outputs": [
    {
     "name": "stdout",
     "output_type": "stream",
     "text": [
      "1\n"
     ]
    }
   ],
   "source": [
    "x = 5\n",
    "y = 3\n",
    "if x > 2: #Passo 1\n",
    "    if y < 3:\n",
    "        x = 2\n",
    "    elif x == 6:\n",
    "        x = 3\n",
    "    else:\n",
    "        x = 1 #Passo 2\n",
    "else:\n",
    "    x = 4\n",
    "print(x)"
   ]
  },
  {
   "cell_type": "code",
   "execution_count": 6,
   "metadata": {},
   "outputs": [
    {
     "name": "stdout",
     "output_type": "stream",
     "text": [
      "9\n"
     ]
    }
   ],
   "source": [
    "x = 5\n",
    "y = 3\n",
    "if x > 2*y:\n",
    "    x = 3\n",
    "else:\n",
    "    x = 2\n",
    "    x = x*3 #Resultado 6\n",
    "if x/2 < y + 2: #3 < 5\n",
    "    x = x + y # 9\n",
    "print(x)"
   ]
  },
  {
   "cell_type": "code",
   "execution_count": 7,
   "metadata": {},
   "outputs": [
    {
     "name": "stdout",
     "output_type": "stream",
     "text": [
      "that is the question\n"
     ]
    }
   ],
   "source": [
    "if x or not x:\n",
    "    print(\"that is the question\")"
   ]
  },
  {
   "cell_type": "code",
   "execution_count": null,
   "metadata": {},
   "outputs": [],
   "source": [
    "#Estruturas de repetição: loop(laço), estrutura de controle de fluxo que permite executar um bloco de códigos várias vezes.\n"
   ]
  },
  {
   "cell_type": "code",
   "execution_count": 8,
   "metadata": {},
   "outputs": [
    {
     "name": "stdout",
     "output_type": "stream",
     "text": [
      "3\n",
      "5\n",
      "7\n",
      "9\n",
      "11\n",
      "13\n"
     ]
    }
   ],
   "source": [
    "#while: repete um bloco de comando enquanto determinada condição for verdadeira\n",
    "soma = 1\n",
    "while soma < 12:\n",
    "    soma = soma + 2\n",
    "    print(soma)"
   ]
  },
  {
   "cell_type": "code",
   "execution_count": 9,
   "metadata": {},
   "outputs": [
    {
     "name": "stdout",
     "output_type": "stream",
     "text": [
      "3\n",
      "5\n",
      "7\n",
      "9\n",
      "13\n"
     ]
    }
   ],
   "source": [
    "#for: Utlizado quando exatamente quantas vezes será necessário repetir um bloco de código\n",
    "for i in [3,5,7,9,13]:\n",
    "    print(i)"
   ]
  },
  {
   "cell_type": "code",
   "execution_count": 10,
   "metadata": {},
   "outputs": [
    {
     "name": "stdout",
     "output_type": "stream",
     "text": [
      "1 3\n",
      "1 4\n",
      "2 3\n",
      "2 4\n"
     ]
    }
   ],
   "source": [
    "for i in [1,2]:\n",
    "    for j in [3,4]:\n",
    "        print(i,j)"
   ]
  },
  {
   "cell_type": "code",
   "execution_count": 11,
   "metadata": {},
   "outputs": [
    {
     "name": "stdout",
     "output_type": "stream",
     "text": [
      "0\n",
      "1\n",
      "2\n",
      "3\n"
     ]
    }
   ],
   "source": [
    "#for com range: cria sequências numéricas para serem utilizadas m loops\n",
    "#Informa a quantdade de loops\n",
    "for i in range(4):\n",
    "    print(i)\n"
   ]
  },
  {
   "cell_type": "code",
   "execution_count": 12,
   "metadata": {},
   "outputs": [
    {
     "name": "stdout",
     "output_type": "stream",
     "text": [
      "1\n",
      "2\n",
      "3\n",
      "4\n"
     ]
    }
   ],
   "source": [
    "#Informa quantidade de loops com o inicio e o fim (intervalo)\n",
    "for i in range(1,5):\n",
    "    print(i)"
   ]
  },
  {
   "cell_type": "code",
   "execution_count": 13,
   "metadata": {},
   "outputs": [
    {
     "name": "stdout",
     "output_type": "stream",
     "text": [
      "20\n",
      "30\n",
      "40\n",
      "50\n"
     ]
    }
   ],
   "source": [
    "#Informa quantidade de loops com o inicio e o fim (intervalo), pulando por uma quantidade de casas determinadas\n",
    "for i in range(20,60,10):\n",
    "    print(i)"
   ]
  }
 ],
 "metadata": {
  "kernelspec": {
   "display_name": "Python 3",
   "language": "python",
   "name": "python3"
  },
  "language_info": {
   "codemirror_mode": {
    "name": "ipython",
    "version": 3
   },
   "file_extension": ".py",
   "mimetype": "text/x-python",
   "name": "python",
   "nbconvert_exporter": "python",
   "pygments_lexer": "ipython3",
   "version": "3.10.0"
  },
  "orig_nbformat": 4
 },
 "nbformat": 4,
 "nbformat_minor": 2
}
