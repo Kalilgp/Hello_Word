{
 "cells": [
  {
   "cell_type": "code",
   "execution_count": 3,
   "metadata": {},
   "outputs": [
    {
     "data": {
      "text/plain": [
       "'nome e 23.875114784205696'"
      ]
     },
     "execution_count": 3,
     "metadata": {},
     "output_type": "execute_result"
    }
   ],
   "source": [
    "#Exerciocio 1\n",
    "peso = float(input('Digite seu peso: '))\n",
    "altura = float(input('Digite sua altura: '))\n",
    "imc = peso / (altura * altura)\n",
    "f'Seu IMC é: {imc}'\n"
   ]
  },
  {
   "cell_type": "code",
   "execution_count": 6,
   "metadata": {},
   "outputs": [
    {
     "data": {
      "text/plain": [
       "\"''\\nExemplo com menos recurso\\nmylist = []\\nvalue1 = int(input('Digite algo: '))\\nvalue2 = int(input('Digite algo: '))\\nvalue3 = int(input('Digite algo: '))\\nvalue4 = int(input('Digite algo: '))\\nvalue5 = int(input('Digite algo: '))\\nmylist.append(value1)\\nmylist.append(value2)\\nmylist.append(value3)\\nmylist.append(value4)\\nmylist.append(value5)\\nf'Segue lista preenchida: {mylist}'\\n\""
      ]
     },
     "execution_count": 6,
     "metadata": {},
     "output_type": "execute_result"
    }
   ],
   "source": [
    "#Exercicio 2\n",
    "mylist = []\n",
    "for i in range (0,5):\n",
    "    value = int(input('Digite algo: '))\n",
    "    mylist.append(value)\n",
    "f'Segue lista preenchida: {mylist}'\n",
    "\n",
    "'''''\n",
    "Exemplo com menos recurso\n",
    "mylist = []\n",
    "value1 = int(input('Digite algo: '))\n",
    "value2 = int(input('Digite algo: '))\n",
    "value3 = int(input('Digite algo: '))\n",
    "value4 = int(input('Digite algo: '))\n",
    "value5 = int(input('Digite algo: '))\n",
    "mylist.append(value1)\n",
    "mylist.append(value2)\n",
    "mylist.append(value3)\n",
    "mylist.append(value4)\n",
    "mylist.append(value5)\n",
    "f'Segue lista preenchida: {mylist}'\n",
    "'''''"
   ]
  },
  {
   "cell_type": "code",
   "execution_count": 10,
   "metadata": {},
   "outputs": [
    {
     "data": {
      "text/plain": [
       "\"['Kalil', 'Garcia', 'Pereira']\""
      ]
     },
     "execution_count": 10,
     "metadata": {},
     "output_type": "execute_result"
    }
   ],
   "source": [
    "entrada = input('Digite uma lista de nomes separados por virgula: ')\n",
    "nomes = entrada.split(',')\n",
    "f'Segue lista de nomes: {nomes}'"
   ]
  },
  {
   "cell_type": "code",
   "execution_count": 13,
   "metadata": {},
   "outputs": [
    {
     "data": {
      "text/plain": [
       "'Segue lista preenchida: [1, 2, 3, 4, 5]'"
      ]
     },
     "execution_count": 13,
     "metadata": {},
     "output_type": "execute_result"
    }
   ],
   "source": [
    "#Exercicio 3\n",
    "mylist = []\n",
    "value1 = int(input('Digite algo: '))\n",
    "value2 = int(input('Digite algo: '))\n",
    "value3 = int(input('Digite algo: '))\n",
    "value4 = int(input('Digite algo: '))\n",
    "value5 = int(input('Digite algo: '))\n",
    "mylist.append(value1)\n",
    "mylist.append(value2)\n",
    "mylist.append(value3)\n",
    "mylist.append(value4)\n",
    "mylist.append(value5)\n",
    "f'Segue lista preenchida: {mylist}'"
   ]
  },
  {
   "cell_type": "code",
   "execution_count": 2,
   "metadata": {},
   "outputs": [
    {
     "data": {
      "text/plain": [
       "'Segue seu novo saldo: 959.0'"
      ]
     },
     "execution_count": 2,
     "metadata": {},
     "output_type": "execute_result"
    }
   ],
   "source": [
    "saldo = 960.00\n",
    "saque = float(input('Quanto deseja sacar: '))\n",
    "NovoSaldo = saldo - saque\n",
    "f'Segue seu novo saldo: {NovoSaldo}'\n"
   ]
  },
  {
   "cell_type": "markdown",
   "metadata": {},
   "source": []
  },
  {
   "cell_type": "code",
   "execution_count": 3,
   "metadata": {},
   "outputs": [
    {
     "name": "stdout",
     "output_type": "stream",
     "text": [
      "Impar\n"
     ]
    }
   ],
   "source": [
    "num = int(input(\"Digite um numero: \" ))\n",
    "if num % 2 == 0:\n",
    "    print (\"Par\")\n",
    "else:\n",
    "    print (\"Impar\")"
   ]
  },
  {
   "cell_type": "code",
   "execution_count": 2,
   "metadata": {},
   "outputs": [
    {
     "name": "stdout",
     "output_type": "stream",
     "text": [
      "Posição 0 corresponde a letra K\n",
      "Posição 1 corresponde a letra a\n",
      "Posição 2 corresponde a letra l\n",
      "Posição 3 corresponde a letra i\n",
      "Posição 2 corresponde a letra l\n"
     ]
    }
   ],
   "source": [
    "frase = input(\"Digite uma frase: \")\n",
    "mylist = []\n",
    "for i in frase:\n",
    "    mylist.append(i)\n",
    "    print('Posição {} corresponde a letra {}'.format(mylist.index(i), i))\n",
    "\n",
    "\n",
    "\n"
   ]
  },
  {
   "cell_type": "code",
   "execution_count": 8,
   "metadata": {},
   "outputs": [
    {
     "name": "stdout",
     "output_type": "stream",
     "text": [
      "Senha iccorreta! Acesso negado.\n",
      "Senha iccorreta! Acesso negado.\n",
      "Senha iccorreta! Acesso negado.\n"
     ]
    }
   ],
   "source": [
    "SenhaCorreta = \"1234\"\n",
    "SenhaDigitada = \"\"\n",
    "\n",
    "while SenhaDigitada != SenhaCorreta:\n",
    "    SenhaDigitada = input(\"Digite uma senha de 4 digitos: \")\n",
    "    if SenhaDigitada == SenhaCorreta:\n",
    "        print(\"Senha correta! Acesso consedido.\")\n",
    "    else:\n",
    "        print(\"Senha iccorreta! Acesso negado.\")"
   ]
  },
  {
   "cell_type": "code",
   "execution_count": 7,
   "metadata": {},
   "outputs": [
    {
     "data": {
      "text/plain": [
       "False"
      ]
     },
     "execution_count": 7,
     "metadata": {},
     "output_type": "execute_result"
    }
   ],
   "source": [
    "\n",
    "eh_multiplo_dez = lambda x: x % 10 == 0\n",
    "eh_multiplo_dez(5)"
   ]
  },
  {
   "cell_type": "code",
   "execution_count": 19,
   "metadata": {},
   "outputs": [
    {
     "data": {
      "text/plain": [
       "120"
      ]
     },
     "execution_count": 19,
     "metadata": {},
     "output_type": "execute_result"
    }
   ],
   "source": [
    "def calc_fatorial(n):\n",
    "    # Verifica se n é 0 ou 1, nesse caso retorna 1\n",
    "    if n == 0 or n == 1:\n",
    "        return 1\n",
    "    # Inicializa a variável fatorial com 1 para acumular o resultado\n",
    "    else:\n",
    "        fatorial = 1\n",
    "    # Loop for para iterar de 2 até n (inclusive)\n",
    "        for i in range(2, n + 1):\n",
    "    # Atualiza o valor de fatorial multiplicando pelo valor de i\n",
    "            fatorial = fatorial*i\n",
    "    # Retorna o resultado do cálculo do fatorial\n",
    "        return fatorial\n",
    "calc_fatorial(5)"
   ]
  },
  {
   "cell_type": "code",
   "execution_count": 24,
   "metadata": {},
   "outputs": [
    {
     "ename": "TypeError",
     "evalue": "p_nome() takes 1 positional argument but 2 were given",
     "output_type": "error",
     "traceback": [
      "\u001b[1;31m---------------------------------------------------------------------------\u001b[0m",
      "\u001b[1;31mTypeError\u001b[0m                                 Traceback (most recent call last)",
      "Cell \u001b[1;32mIn[24], line 9\u001b[0m\n\u001b[0;32m      6\u001b[0m     \u001b[39melse\u001b[39;00m:\n\u001b[0;32m      7\u001b[0m         \u001b[39mreturn\u001b[39;00m \u001b[39m'\u001b[39m\u001b[39m'\u001b[39m\n\u001b[1;32m----> 9\u001b[0m p_nome(\u001b[39m'\u001b[39;49m\u001b[39mKalil Pereira\u001b[39;49m\u001b[39m'\u001b[39;49m,\u001b[39m'\u001b[39;49m\u001b[39mAline Alves\u001b[39;49m\u001b[39m'\u001b[39;49m)\n\u001b[0;32m     11\u001b[0m \u001b[39m#nomes = ['João Carlos', 'Maria Eduarda', 'Ana Rute', 'Ana Clara']\u001b[39;00m\n\u001b[0;32m     12\u001b[0m \n\u001b[0;32m     13\u001b[0m \u001b[39m#nomes_primeiro = list(map(p_nome, nomes))\u001b[39;00m\n\u001b[0;32m     14\u001b[0m \n\u001b[0;32m     15\u001b[0m \u001b[39m#print(nomes_primeiro)\u001b[39;00m\n",
      "\u001b[1;31mTypeError\u001b[0m: p_nome() takes 1 positional argument but 2 were given"
     ]
    }
   ],
   "source": [
    "def p_nome(nome_completo):\n",
    "    nomes = []\n",
    "    partes = nome_completo.split()\n",
    "    if partes:\n",
    "        return partes[0]\n",
    "    else:\n",
    "        return ''\n",
    "\n",
    "p_nome('Kalil Pereira','Aline Alves')\n",
    "\n",
    "#nomes = ['João Carlos', 'Maria Eduarda', 'Ana Rute', 'Ana Clara']\n",
    "\n",
    "#nomes_primeiro = list(map(p_nome, nomes))\n",
    "\n",
    "#print(nomes_primeiro)"
   ]
  },
  {
   "cell_type": "code",
   "execution_count": null,
   "metadata": {},
   "outputs": [],
   "source": [
    "def dia_da_semana(data):\n",
    "    try:\n",
    "        data_formatada = datetime.strptime(data, '%d/%m/%Y')\n",
    "        dia_da_semana = data_formatada.strftime('%A')\n",
    "        return dia_da_semana\n",
    "    except ValueError:\n",
    "        return \"Data inválida\"\n",
    "\n",
    "# Teste da função\n",
    "data = \"23/08/2023\"\n",
    "dia = dia_da_semana(data)\n",
    "print(f\"O dia da semana para {data} é {dia}\")"
   ]
  }
 ],
 "metadata": {
  "kernelspec": {
   "display_name": "Python 3",
   "language": "python",
   "name": "python3"
  },
  "language_info": {
   "codemirror_mode": {
    "name": "ipython",
    "version": 3
   },
   "file_extension": ".py",
   "mimetype": "text/x-python",
   "name": "python",
   "nbconvert_exporter": "python",
   "pygments_lexer": "ipython3",
   "version": "3.10.0"
  },
  "orig_nbformat": 4
 },
 "nbformat": 4,
 "nbformat_minor": 2
}
