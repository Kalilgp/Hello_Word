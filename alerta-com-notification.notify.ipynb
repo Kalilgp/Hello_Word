{
 "cells": [
  {
   "cell_type": "code",
   "execution_count": 1,
   "metadata": {},
   "outputs": [
    {
     "name": "stdout",
     "output_type": "stream",
     "text": [
      "Collecting plyer\n",
      "  Downloading plyer-2.1.0-py2.py3-none-any.whl (142 kB)\n",
      "Installing collected packages: plyer\n",
      "Successfully installed plyer-2.1.0\n"
     ]
    },
    {
     "name": "stderr",
     "output_type": "stream",
     "text": [
      "WARNING: You are using pip version 21.2.3; however, version 23.2.1 is available.\n",
      "You should consider upgrading via the 'C:\\Users\\kalil.pereira\\AppData\\Local\\Programs\\Python\\Python310\\python.exe -m pip install --upgrade pip' command.\n"
     ]
    }
   ],
   "source": [
    "!pip install plyer"
   ]
  },
  {
   "cell_type": "code",
   "execution_count": 23,
   "metadata": {},
   "outputs": [],
   "source": [
    "from plyer import notification\n",
    "from datetime import datetime"
   ]
  },
  {
   "cell_type": "code",
   "execution_count": 47,
   "metadata": {},
   "outputs": [],
   "source": [
    "def alerta(nivel, base, etapa):\n",
    "    if nivel == 1:\n",
    "        nivel = \"Baixo\"\n",
    "    elif nivel == 2:\n",
    "        nivel = \"Médio\"\n",
    "    else:\n",
    "        nivel = \"Alto\"\n",
    "\n",
    "    titulo = f'ATENÇÃO: Alerta {nivel}'\n",
    "    mensagem = f'Falha no carregamento da base {base} na etapa {etapa} \\n{datetime.now()}'\n",
    "    app_name = \"Itaú Bank\"\n",
    "    notification.notify(title=titulo, message=mensagem,app_name=app_name,timeout=10)\n",
    "\n",
    "nivel = 2\n",
    "base = \"CLIENTES\"\n",
    "etapa = \"EXTRAÇÃO\"\n",
    "\n",
    "alerta(nivel,base,etapa)"
   ]
  }
 ],
 "metadata": {
  "kernelspec": {
   "display_name": "Python 3",
   "language": "python",
   "name": "python3"
  },
  "language_info": {
   "codemirror_mode": {
    "name": "ipython",
    "version": 3
   },
   "file_extension": ".py",
   "mimetype": "text/x-python",
   "name": "python",
   "nbconvert_exporter": "python",
   "pygments_lexer": "ipython3",
   "version": "3.10.0"
  },
  "orig_nbformat": 4
 },
 "nbformat": 4,
 "nbformat_minor": 2
}
