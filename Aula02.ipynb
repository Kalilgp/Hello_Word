{
 "cells": [
  {
   "cell_type": "code",
   "execution_count": 2,
   "metadata": {},
   "outputs": [
    {
     "data": {
      "text/plain": [
       "[5, 6, 7, 8]"
      ]
     },
     "execution_count": 2,
     "metadata": {},
     "output_type": "execute_result"
    }
   ],
   "source": [
    "# Lista[]: Estrutura de dado mutavel e ordenada que pode conter diversos tipos de dados\n",
    "lista = [5,6,7,8]\n",
    "lista2 = [1]\n",
    "lista"
   ]
  },
  {
   "cell_type": "code",
   "execution_count": 4,
   "metadata": {},
   "outputs": [
    {
     "data": {
      "text/plain": [
       "[5, 6, 7, 8, 1]"
      ]
     },
     "execution_count": 4,
     "metadata": {},
     "output_type": "execute_result"
    }
   ],
   "source": [
    "# Lista[]: Concatenação\n",
    "listaCompleta =  lista + lista2\n",
    "listaCompleta"
   ]
  },
  {
   "cell_type": "code",
   "execution_count": 5,
   "metadata": {},
   "outputs": [
    {
     "data": {
      "text/plain": [
       "[1, 2]"
      ]
     },
     "execution_count": 5,
     "metadata": {},
     "output_type": "execute_result"
    }
   ],
   "source": [
    "# Lista[]: Incluir novo dado na lista usando Append\n",
    "lista2.append(2)\n",
    "lista2"
   ]
  },
  {
   "cell_type": "code",
   "execution_count": 6,
   "metadata": {},
   "outputs": [
    {
     "data": {
      "text/plain": [
       "[5, 6, 7, 8]"
      ]
     },
     "execution_count": 6,
     "metadata": {},
     "output_type": "execute_result"
    }
   ],
   "source": [
    "# Lista[]: Ordenar lista usando Sort\n",
    "lista.sort()\n",
    "lista"
   ]
  },
  {
   "cell_type": "code",
   "execution_count": 7,
   "metadata": {},
   "outputs": [
    {
     "data": {
      "text/plain": [
       "{'Kalil': 34, 'Aline': 35, 'Sophia': 12}"
      ]
     },
     "execution_count": 7,
     "metadata": {},
     "output_type": "execute_result"
    }
   ],
   "source": [
    "# Dicionário{}: Estrutura mutavel e não ordenada que mapeia chaves a valores\n",
    "MeuDicio = {\"Kalil\": 34, \"Aline\": 35, \"Sophia\": 12}\n",
    "MeuDicio"
   ]
  },
  {
   "cell_type": "code",
   "execution_count": 8,
   "metadata": {},
   "outputs": [
    {
     "data": {
      "text/plain": [
       "(1, 'Dois', 3.0)"
      ]
     },
     "execution_count": 8,
     "metadata": {},
     "output_type": "execute_result"
    }
   ],
   "source": [
    "#Tuplas(): Coleção imutável e ordenada de elementos, muito parecido com as listas\n",
    "MinhaTupla = (1,\"Dois\",3.0)\n",
    "MinhaTupla"
   ]
  },
  {
   "cell_type": "code",
   "execution_count": 9,
   "metadata": {},
   "outputs": [
    {
     "data": {
      "text/plain": [
       "{1, 2, 3, 4, 5}"
      ]
     },
     "execution_count": 9,
     "metadata": {},
     "output_type": "execute_result"
    }
   ],
   "source": [
    "#Set{}: Coleção mutável e não ordenada de elementos únicos, não possuem ordem, não podem ser acessados por posição\n",
    "meu_set = {1,2,3,4,5}\n",
    "meu_set"
   ]
  },
  {
   "cell_type": "code",
   "execution_count": 15,
   "metadata": {},
   "outputs": [
    {
     "name": "stdout",
     "output_type": "stream",
     "text": [
      "5\n",
      "8\n",
      "6\n"
     ]
    }
   ],
   "source": [
    "#Indexação: Lista começa em '0', significa que é o prmeiro elemento.\n",
    "#Acessando o elemento pelo indice\n",
    "print(lista[0])\n",
    "print(lista[3])\n",
    "#Acessando elemento de trás para frente\n",
    "print(lista[-3])"
   ]
  },
  {
   "cell_type": "code",
   "execution_count": 16,
   "metadata": {},
   "outputs": [
    {
     "name": "stdout",
     "output_type": "stream",
     "text": [
      "[5, 6, 7]\n",
      "[6, 7]\n",
      "[8]\n",
      "7\n"
     ]
    }
   ],
   "source": [
    "#Slicing: Indexação fatiada\n",
    "print(lista[:3]) # Retorna até a posição 3\n",
    "print(lista[1:3]) # Retorna da posição 1 até a posição 3\n",
    "print(lista[3:]) # Retorna da posição 3 adiante\n",
    "print(lista[-2]) # Retorna de trás para frente 2 posições"
   ]
  },
  {
   "cell_type": "code",
   "execution_count": 17,
   "metadata": {},
   "outputs": [
    {
     "data": {
      "text/plain": [
       "4"
      ]
     },
     "execution_count": 17,
     "metadata": {},
     "output_type": "execute_result"
    }
   ],
   "source": [
    "#len: Retorna o número de item dentro de um objeto\n",
    "len(lista)"
   ]
  },
  {
   "cell_type": "code",
   "execution_count": 25,
   "metadata": {},
   "outputs": [
    {
     "name": "stdout",
     "output_type": "stream",
     "text": [
      "Meu nome é Kalil Garcia e tenho 34 anos.\n",
      "Meu nome é Kalil Garcia e tenho 34 anos\n"
     ]
    }
   ],
   "source": [
    "#Operação com string\n",
    "srt_1 = 'Kalil'\n",
    "str_2 = 'Garcia'\n",
    "str_3 = srt_1 + \" \" + str_2\n",
    "str_3\n",
    "idade = 34\n",
    "print(f'Meu nome é {str_3} e tenho {idade} anos.')\n",
    "print('Meu nome é {} e tenho {} anos'.format(str_3,idade))"
   ]
  },
  {
   "cell_type": "code",
   "execution_count": 37,
   "metadata": {},
   "outputs": [
    {
     "name": "stdout",
     "output_type": "stream",
     "text": [
      "Meu apelido é lil\n"
     ]
    }
   ],
   "source": [
    "#Operação com string\n",
    "print('Meu apelido é {}'.format(srt_1[2:]))"
   ]
  },
  {
   "cell_type": "code",
   "execution_count": 1,
   "metadata": {},
   "outputs": [
    {
     "data": {
      "text/plain": [
       "'Oi, meu nome é Aline e tenho 34 anos'"
      ]
     },
     "execution_count": 1,
     "metadata": {},
     "output_type": "execute_result"
    }
   ],
   "source": [
    "#Replace: Substituindo um elemento na string\n",
    "frase = \"Oi, meu nome é Kalil e tenho 34 anos\"\n",
    "nova_frase = frase.replace(\"Kalil\",\"Aline\")\n",
    "nova_frase"
   ]
  },
  {
   "cell_type": "code",
   "execution_count": 42,
   "metadata": {},
   "outputs": [
    {
     "data": {
      "text/plain": [
       "'Hello Word'"
      ]
     },
     "execution_count": 42,
     "metadata": {},
     "output_type": "execute_result"
    }
   ],
   "source": [
    "#strip: retira o espaço do início\n",
    "frase_espaco = \"   Hello Word\"\n",
    "Frase_nova = frase_espaco.strip()\n",
    "Frase_nova"
   ]
  },
  {
   "cell_type": "code",
   "execution_count": 59,
   "metadata": {},
   "outputs": [
    {
     "name": "stdout",
     "output_type": "stream",
     "text": [
      "['Oi, m', 'u nom', ' é Kalil ', ' t', 'nho 34 anos']\n",
      "['Oi,', 'meu', 'nome', 'é', 'Kalil', 'e', 'tenho', '34', 'anos']\n"
     ]
    }
   ],
   "source": [
    "#Split: Divide uma string em uma lista de substrings\n",
    "print(frase.split('e')) #Podemos usar um delimitador atribuido para dividir as substrings\n",
    "print(frase.split())\n"
   ]
  },
  {
   "cell_type": "code",
   "execution_count": 61,
   "metadata": {},
   "outputs": [
    {
     "data": {
      "text/plain": [
       "'OI, MEU NOME É KALIL E TENHO 34 ANOS'"
      ]
     },
     "execution_count": 61,
     "metadata": {},
     "output_type": "execute_result"
    }
   ],
   "source": [
    "frase.upper() #Deixar a frase maiuscula"
   ]
  },
  {
   "cell_type": "code",
   "execution_count": 63,
   "metadata": {},
   "outputs": [
    {
     "data": {
      "text/plain": [
       "'oi, meu nome é kalil e tenho 34 anos'"
      ]
     },
     "execution_count": 63,
     "metadata": {},
     "output_type": "execute_result"
    }
   ],
   "source": [
    "frase.lower() #Deixar a frase minuscula"
   ]
  }
 ],
 "metadata": {
  "kernelspec": {
   "display_name": "Python 3",
   "language": "python",
   "name": "python3"
  },
  "language_info": {
   "codemirror_mode": {
    "name": "ipython",
    "version": 3
   },
   "file_extension": ".py",
   "mimetype": "text/x-python",
   "name": "python",
   "nbconvert_exporter": "python",
   "pygments_lexer": "ipython3",
   "version": "3.10.0"
  },
  "orig_nbformat": 4
 },
 "nbformat": 4,
 "nbformat_minor": 2
}
