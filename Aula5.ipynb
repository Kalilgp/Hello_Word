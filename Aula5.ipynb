{
 "cells": [
  {
   "cell_type": "code",
   "execution_count": 1,
   "metadata": {},
   "outputs": [
    {
     "name": "stdout",
     "output_type": "stream",
     "text": [
      "Area do retângulo:  15\n",
      "Perimetro retângulo:  16\n"
     ]
    }
   ],
   "source": [
    "class Retangulo():\n",
    "    def __init__(self, base, altura):\n",
    "        self.base = base # Atributos\n",
    "        self.altura = altura # Atributos\n",
    "    def area(self): # Método\n",
    "        return self.base * self.altura\n",
    "    def perimetro(self): # Método\n",
    "        return 2 * (self.base + self.altura)\n",
    "    \n",
    "# Objeto Retangulo\n",
    "meu_retangulo = Retangulo(5,3)\n",
    "\n",
    "#Teste do método\n",
    "print(\"Area do retângulo: \", meu_retangulo.area())\n",
    "print(\"Perimetro retângulo: \", meu_retangulo.perimetro())"
   ]
  },
  {
   "cell_type": "code",
   "execution_count": 2,
   "metadata": {},
   "outputs": [],
   "source": [
    "class Retangulo():\n",
    "    def __init__(self, base, altura):\n",
    "        self.base = base # Atributos\n",
    "        self.altura = altura # Atributos\n",
    "    def area(self): # Método\n",
    "        return self.base * self.altura\n",
    "    def perimetro(self): # Método\n",
    "        return 2 * (self.base + self.altura)"
   ]
  },
  {
   "cell_type": "code",
   "execution_count": 6,
   "metadata": {},
   "outputs": [
    {
     "ename": "ModuleNotFoundError",
     "evalue": "No module named 'geometria'",
     "output_type": "error",
     "traceback": [
      "\u001b[1;31m---------------------------------------------------------------------------\u001b[0m",
      "\u001b[1;31mModuleNotFoundError\u001b[0m                       Traceback (most recent call last)",
      "Cell \u001b[1;32mIn[6], line 1\u001b[0m\n\u001b[1;32m----> 1\u001b[0m \u001b[39mfrom\u001b[39;00m \u001b[39mgeometria\u001b[39;00m \u001b[39mimport\u001b[39;00m Retangulo\n",
      "\u001b[1;31mModuleNotFoundError\u001b[0m: No module named 'geometria'"
     ]
    }
   ],
   "source": [
    "from geometria import Retangulo"
   ]
  }
 ],
 "metadata": {
  "kernelspec": {
   "display_name": "Python 3",
   "language": "python",
   "name": "python3"
  },
  "language_info": {
   "codemirror_mode": {
    "name": "ipython",
    "version": 3
   },
   "file_extension": ".py",
   "mimetype": "text/x-python",
   "name": "python",
   "nbconvert_exporter": "python",
   "pygments_lexer": "ipython3",
   "version": "3.10.0"
  },
  "orig_nbformat": 4
 },
 "nbformat": 4,
 "nbformat_minor": 2
}
