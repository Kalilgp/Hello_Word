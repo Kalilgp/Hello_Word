{
 "cells": [
  {
   "cell_type": "code",
   "execution_count": null,
   "metadata": {},
   "outputs": [],
   "source": [
    "%pip install numpy"
   ]
  },
  {
   "cell_type": "code",
   "execution_count": 12,
   "metadata": {},
   "outputs": [
    {
     "name": "stdout",
     "output_type": "stream",
     "text": [
      "Números aleatórios: [ 56  64  94  38  69  69  54 100  70  85]\n",
      "Tipo do dado: int32\n"
     ]
    }
   ],
   "source": [
    "import numpy as np\n",
    "Aleatorio = np.random.randint(0,101,10) #Gera 10 numeros aleatorios de 0 a 100\n",
    "print(f'Números aleatórios: {Aleatorio}')\n",
    "print(f'Tipo do dado: {Aleatorio.dtype}')"
   ]
  },
  {
   "cell_type": "code",
   "execution_count": 15,
   "metadata": {},
   "outputs": [
    {
     "name": "stdout",
     "output_type": "stream",
     "text": [
      "Matrix: [[0.80583887 0.20871315 0.39387412 0.23171827 0.35635331]\n",
      " [0.14979881 0.83217734 0.8743029  0.7171097  0.28053542]\n",
      " [0.79543149 0.29868523 0.56740254 0.43978915 0.74033115]\n",
      " [0.90430271 0.46874121 0.58601865 0.97277287 0.44464238]\n",
      " [0.17628465 0.3232697  0.23978613 0.18312869 0.05047177]]\n",
      "Minimo: 0.05047176686611554\n",
      "Maximo: 0.9727728731786516\n",
      "Média: 0.4816592078439089\n"
     ]
    }
   ],
   "source": [
    "matriz = np.random.rand(5,5) #Gera valores aleatórios de 0,1\n",
    "min = matriz.min()\n",
    "max = matriz.max()\n",
    "med = matriz.mean()\n",
    "\n",
    "print(f'Matrix: {matriz}')\n",
    "print(f'Minimo: {min}')\n",
    "print(f'Maximo: {max}')\n",
    "print(f'Média: {med}')\n"
   ]
  },
  {
   "cell_type": "code",
   "execution_count": 26,
   "metadata": {},
   "outputs": [
    {
     "name": "stdout",
     "output_type": "stream",
     "text": [
      "[0.8687411  0.24539594 0.36131984 0.64214236 0.54135325 0.77088945\n",
      " 0.65108832 0.41582746 0.15399671 0.14359426]\n",
      "[8.68741103 2.45395944 3.61319843 6.4214236  5.41353247 7.7088945\n",
      " 6.51088322 4.15827456 1.53996712 1.4359426 ]\n"
     ]
    }
   ],
   "source": [
    "Aleatorio = np.random.rand(10) \n",
    "print(Aleatorio)\n",
    "MultArray = Aleatorio * 10\n",
    "print(MultArray)"
   ]
  },
  {
   "cell_type": "code",
   "execution_count": 24,
   "metadata": {},
   "outputs": [
    {
     "name": "stdout",
     "output_type": "stream",
     "text": [
      "[[6 8 4]\n",
      " [1 2 3]\n",
      " [2 3 6]]\n"
     ]
    }
   ],
   "source": [
    "array_sh = np.random.randint(0,10,(3,3))\n",
    "print(array_sh)\n",
    "\n"
   ]
  },
  {
   "cell_type": "code",
   "execution_count": null,
   "metadata": {},
   "outputs": [],
   "source": [
    "array = np.random.randint(0, 9, size=(3, 3))\n",
    "print(array)\n",
    "\n",
    "array[1] = -1\n",
    "print(array)"
   ]
  }
 ],
 "metadata": {
  "kernelspec": {
   "display_name": "Python 3",
   "language": "python",
   "name": "python3"
  },
  "language_info": {
   "codemirror_mode": {
    "name": "ipython",
    "version": 3
   },
   "file_extension": ".py",
   "mimetype": "text/x-python",
   "name": "python",
   "nbconvert_exporter": "python",
   "pygments_lexer": "ipython3",
   "version": "3.10.0"
  },
  "orig_nbformat": 4
 },
 "nbformat": 4,
 "nbformat_minor": 2
}
